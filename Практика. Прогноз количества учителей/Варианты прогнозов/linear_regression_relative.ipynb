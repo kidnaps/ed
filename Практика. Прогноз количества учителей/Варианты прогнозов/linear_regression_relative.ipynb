{
 "cells": [
  {
   "cell_type": "markdown",
   "metadata": {},
   "source": [
    "## Расчет количества преподавателей в зависимости от количества учеников и сезона\n",
    "\n",
    "В этом варианте модель регрессии строится по данным о количестве учеников, затем количество преподавателей рассчитывается в зависимости от сезона (ежемесячно). Применимость метода в том, что он косвенно учитывает и частоту занятий"
   ]
  },
  {
   "cell_type": "code",
   "execution_count": 2,
   "metadata": {},
   "outputs": [],
   "source": [
    "import numpy as np\n",
    "import pandas as pd\n",
    "import matplotlib.pyplot as plt\n",
    "from numpy.linalg import inv #вычисление обратной матрицы\n",
    "from sklearn.metrics import mean_absolute_error #поиск средней ошибки в абсолютном и квадратичном смысле\n",
    "\n",
    "data = pd.read_csv(\"classes.csv\")"
   ]
  },
  {
   "cell_type": "markdown",
   "metadata": {},
   "source": [
    "В таблице full_data представлены: количество преподавателей и учеников за каждый месяц, их колличественное\n",
    "отношение"
   ]
  },
  {
   "cell_type": "code",
   "execution_count": 3,
   "metadata": {},
   "outputs": [],
   "source": [
    "data['start_at']= pd.to_datetime(data['start_at']) \n",
    "#data.sort_values(by = \"start_at\", inplace = True)\n",
    "data['year'] = data['start_at'].dt.year\n",
    "data['month'] = data['start_at'].dt.month\n",
    "full_data = data.groupby(['year', 'month'])['teacher_id','student_id'].nunique()"
   ]
  },
  {
   "cell_type": "code",
   "execution_count": 4,
   "metadata": {},
   "outputs": [
    {
     "data": {
      "text/html": [
       "<div>\n",
       "<style scoped>\n",
       "    .dataframe tbody tr th:only-of-type {\n",
       "        vertical-align: middle;\n",
       "    }\n",
       "\n",
       "    .dataframe tbody tr th {\n",
       "        vertical-align: top;\n",
       "    }\n",
       "\n",
       "    .dataframe thead th {\n",
       "        text-align: right;\n",
       "    }\n",
       "</style>\n",
       "<table border=\"1\" class=\"dataframe\">\n",
       "  <thead>\n",
       "    <tr style=\"text-align: right;\">\n",
       "      <th></th>\n",
       "      <th></th>\n",
       "      <th>count_teachers</th>\n",
       "      <th>count_students</th>\n",
       "      <th>relation</th>\n",
       "    </tr>\n",
       "    <tr>\n",
       "      <th>year</th>\n",
       "      <th>month</th>\n",
       "      <th></th>\n",
       "      <th></th>\n",
       "      <th></th>\n",
       "    </tr>\n",
       "  </thead>\n",
       "  <tbody>\n",
       "    <tr>\n",
       "      <th rowspan=\"4\" valign=\"top\">2017</th>\n",
       "      <th>9</th>\n",
       "      <td>1207</td>\n",
       "      <td>7084</td>\n",
       "      <td>0.000000</td>\n",
       "    </tr>\n",
       "    <tr>\n",
       "      <th>10</th>\n",
       "      <td>1273</td>\n",
       "      <td>7934</td>\n",
       "      <td>6.573322</td>\n",
       "    </tr>\n",
       "    <tr>\n",
       "      <th>11</th>\n",
       "      <td>1463</td>\n",
       "      <td>8832</td>\n",
       "      <td>6.937942</td>\n",
       "    </tr>\n",
       "    <tr>\n",
       "      <th>12</th>\n",
       "      <td>1693</td>\n",
       "      <td>10435</td>\n",
       "      <td>7.132604</td>\n",
       "    </tr>\n",
       "    <tr>\n",
       "      <th rowspan=\"12\" valign=\"top\">2018</th>\n",
       "      <th>1</th>\n",
       "      <td>1806</td>\n",
       "      <td>10340</td>\n",
       "      <td>6.107501</td>\n",
       "    </tr>\n",
       "    <tr>\n",
       "      <th>2</th>\n",
       "      <td>2088</td>\n",
       "      <td>11723</td>\n",
       "      <td>6.491141</td>\n",
       "    </tr>\n",
       "    <tr>\n",
       "      <th>3</th>\n",
       "      <td>2488</td>\n",
       "      <td>14645</td>\n",
       "      <td>7.013889</td>\n",
       "    </tr>\n",
       "    <tr>\n",
       "      <th>4</th>\n",
       "      <td>2854</td>\n",
       "      <td>16221</td>\n",
       "      <td>6.519695</td>\n",
       "    </tr>\n",
       "    <tr>\n",
       "      <th>5</th>\n",
       "      <td>3256</td>\n",
       "      <td>19428</td>\n",
       "      <td>6.807288</td>\n",
       "    </tr>\n",
       "    <tr>\n",
       "      <th>6</th>\n",
       "      <td>3517</td>\n",
       "      <td>20816</td>\n",
       "      <td>6.393120</td>\n",
       "    </tr>\n",
       "    <tr>\n",
       "      <th>7</th>\n",
       "      <td>3739</td>\n",
       "      <td>20990</td>\n",
       "      <td>5.968155</td>\n",
       "    </tr>\n",
       "    <tr>\n",
       "      <th>8</th>\n",
       "      <td>4009</td>\n",
       "      <td>21709</td>\n",
       "      <td>5.806098</td>\n",
       "    </tr>\n",
       "    <tr>\n",
       "      <th>9</th>\n",
       "      <td>4299</td>\n",
       "      <td>22864</td>\n",
       "      <td>5.703168</td>\n",
       "    </tr>\n",
       "    <tr>\n",
       "      <th>10</th>\n",
       "      <td>4631</td>\n",
       "      <td>26637</td>\n",
       "      <td>6.196092</td>\n",
       "    </tr>\n",
       "    <tr>\n",
       "      <th>11</th>\n",
       "      <td>4774</td>\n",
       "      <td>29633</td>\n",
       "      <td>6.398834</td>\n",
       "    </tr>\n",
       "    <tr>\n",
       "      <th>12</th>\n",
       "      <td>4883</td>\n",
       "      <td>31768</td>\n",
       "      <td>6.654378</td>\n",
       "    </tr>\n",
       "    <tr>\n",
       "      <th rowspan=\"9\" valign=\"top\">2019</th>\n",
       "      <th>1</th>\n",
       "      <td>5153</td>\n",
       "      <td>31152</td>\n",
       "      <td>6.379685</td>\n",
       "    </tr>\n",
       "    <tr>\n",
       "      <th>2</th>\n",
       "      <td>5681</td>\n",
       "      <td>34275</td>\n",
       "      <td>6.651465</td>\n",
       "    </tr>\n",
       "    <tr>\n",
       "      <th>3</th>\n",
       "      <td>6197</td>\n",
       "      <td>40261</td>\n",
       "      <td>7.086957</td>\n",
       "    </tr>\n",
       "    <tr>\n",
       "      <th>4</th>\n",
       "      <td>6644</td>\n",
       "      <td>42981</td>\n",
       "      <td>6.935775</td>\n",
       "    </tr>\n",
       "    <tr>\n",
       "      <th>5</th>\n",
       "      <td>7024</td>\n",
       "      <td>47087</td>\n",
       "      <td>7.087146</td>\n",
       "    </tr>\n",
       "    <tr>\n",
       "      <th>6</th>\n",
       "      <td>7154</td>\n",
       "      <td>46351</td>\n",
       "      <td>6.598946</td>\n",
       "    </tr>\n",
       "    <tr>\n",
       "      <th>7</th>\n",
       "      <td>7303</td>\n",
       "      <td>46333</td>\n",
       "      <td>6.476517</td>\n",
       "    </tr>\n",
       "    <tr>\n",
       "      <th>8</th>\n",
       "      <td>7776</td>\n",
       "      <td>47973</td>\n",
       "      <td>6.568944</td>\n",
       "    </tr>\n",
       "    <tr>\n",
       "      <th>9</th>\n",
       "      <td>8252</td>\n",
       "      <td>49486</td>\n",
       "      <td>6.363940</td>\n",
       "    </tr>\n",
       "  </tbody>\n",
       "</table>\n",
       "</div>"
      ],
      "text/plain": [
       "            count_teachers  count_students  relation\n",
       "year month                                          \n",
       "2017 9                1207            7084  0.000000\n",
       "     10               1273            7934  6.573322\n",
       "     11               1463            8832  6.937942\n",
       "     12               1693           10435  7.132604\n",
       "2018 1                1806           10340  6.107501\n",
       "     2                2088           11723  6.491141\n",
       "     3                2488           14645  7.013889\n",
       "     4                2854           16221  6.519695\n",
       "     5                3256           19428  6.807288\n",
       "     6                3517           20816  6.393120\n",
       "     7                3739           20990  5.968155\n",
       "     8                4009           21709  5.806098\n",
       "     9                4299           22864  5.703168\n",
       "     10               4631           26637  6.196092\n",
       "     11               4774           29633  6.398834\n",
       "     12               4883           31768  6.654378\n",
       "2019 1                5153           31152  6.379685\n",
       "     2                5681           34275  6.651465\n",
       "     3                6197           40261  7.086957\n",
       "     4                6644           42981  6.935775\n",
       "     5                7024           47087  7.087146\n",
       "     6                7154           46351  6.598946\n",
       "     7                7303           46333  6.476517\n",
       "     8                7776           47973  6.568944\n",
       "     9                8252           49486  6.363940"
      ]
     },
     "execution_count": 4,
     "metadata": {},
     "output_type": "execute_result"
    }
   ],
   "source": [
    "full_data = pd.DataFrame(full_data)\n",
    "full_data.columns = [\"count_teachers\", \"count_students\"]\n",
    "full_data[\"relation\"] = 0\n",
    "full_data[\"relation\"] = full_data[\"relation\"].astype('float64')\n",
    "for i in range (1, 25):\n",
    "    full_data.iloc[i, full_data.columns.get_loc('relation')] = full_data[\"count_students\"][i]/full_data[\"count_teachers\"][i-1]\n",
    "    \n",
    "full_data"
   ]
  },
  {
   "cell_type": "markdown",
   "metadata": {},
   "source": [
    "Далее идет построение самой модели регрессии, оценивающей количество учеников"
   ]
  },
  {
   "cell_type": "code",
   "execution_count": 5,
   "metadata": {},
   "outputs": [],
   "source": [
    "Y_true = full_data['count_students']\n",
    "Y_true.index = range(25)\n",
    "\n",
    "Y = np.matrix(Y_true).T\n",
    "Y_train = Y[:-1]\n",
    "A = np.matrix(np.concatenate((np.ones(shape = (Y_true.size-1, 1), dtype = int), np.arange(0,Y_true.size-1).reshape(Y_true.size-1,1)), axis=1))\n",
    "#один месяц отрезаем для проверки"
   ]
  },
  {
   "cell_type": "code",
   "execution_count": 6,
   "metadata": {},
   "outputs": [
    {
     "name": "stdout",
     "output_type": "stream",
     "text": [
      "Оценки параметров: a = 3516.750000000002, k = 1931.413043478261 \n"
     ]
    }
   ],
   "source": [
    "tetta = np.dot(np.dot(inv(np.dot(A.T,A)),A.T), Y_train)\n",
    "a0 = float(tetta[0,0])\n",
    "k = float(tetta[1,0])\n",
    "print(\"Оценки параметров: a = {0}, k = {1} \".format(a0, k))"
   ]
  },
  {
   "cell_type": "code",
   "execution_count": 7,
   "metadata": {},
   "outputs": [
    {
     "data": {
      "image/png": "[encoded data removed]",
      "text/plain": [
       "<Figure size 432x288 with 1 Axes>"
      ]
     },
     "metadata": {
      "needs_background": "light"
     },
     "output_type": "display_data"
    }
   ],
   "source": [
    "x = np.linspace(0, Y_train.size,Y_train.size + 1)\n",
    "Y_pred = a0 + x * k\n",
    "\n",
    "plt.plot(x, Y_pred, '-r')\n",
    "plt.scatter(Y_true.index, Y_true)\n",
    "plt.show()"
   ]
  },
  {
   "cell_type": "markdown",
   "metadata": {},
   "source": [
    "На графике видно, что количество учеников имеет более явную сезонную составляющую, нежели у преподавателей"
   ]
  },
  {
   "cell_type": "code",
   "execution_count": 8,
   "metadata": {},
   "outputs": [
    {
     "name": "stdout",
     "output_type": "stream",
     "text": [
      "Ошибка количества преподавателей на тестовом месяце:  492.37929239434743\n"
     ]
    }
   ],
   "source": [
    "print(\"Ошибка количества преподавателей на тестовом месяце: \", (a0 + Y_train.size * k)/full_data.loc[2018,9].relation - full_data.loc[2019,9].count_teachers)"
   ]
  },
  {
   "cell_type": "code",
   "execution_count": 9,
   "metadata": {},
   "outputs": [
    {
     "name": "stdout",
     "output_type": "stream",
     "text": [
      "Предсказанное количество преподавателей в следующем (10ом) месяце:\n",
      " 8360.443184210913\n"
     ]
    }
   ],
   "source": [
    "print(\"Предсказанное количество преподавателей в следующем (10ом) месяце:\\n\", (a0 + (Y_train.size + 1)*k)/full_data.loc[2018,10].relation)"
   ]
  },
  {
   "cell_type": "markdown",
   "metadata": {},
   "source": [
    "### Оценка точности модели"
   ]
  },
  {
   "cell_type": "code",
   "execution_count": 13,
   "metadata": {},
   "outputs": [
    {
     "name": "stdout",
     "output_type": "stream",
     "text": [
      "Средняя абсолютная ошибка за последние пять месяцев:  494.2924284626697\n"
     ]
    }
   ],
   "source": [
    "j = 5\n",
    "res = 0\n",
    "for i in range(20,25):\n",
    "    res = res + abs(full_data.loc[2019,j].count_teachers - Y_pred[i]/full_data.loc[2018,j].relation)\n",
    "    j = j + 1\n",
    "print(\"Средняя абсолютная ошибка за последние пять месяцев: \", res/5)"
   ]
  },
  {
   "cell_type": "code",
   "execution_count": null,
   "metadata": {},
   "outputs": [],
   "source": []
  }
 ],
 "metadata": {
  "kernelspec": {
   "display_name": "Python 3",
   "language": "python",
   "name": "python3"
  },
  "language_info": {
   "codemirror_mode": {
    "name": "ipython",
    "version": 3
   },
   "file_extension": ".py",
   "mimetype": "text/x-python",
   "name": "python",
   "nbconvert_exporter": "python",
   "pygments_lexer": "ipython3",
   "version": "3.7.3"
  }
 },
 "nbformat": 4,
 "nbformat_minor": 2
}
