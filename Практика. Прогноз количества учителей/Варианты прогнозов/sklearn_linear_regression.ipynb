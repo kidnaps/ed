{
 "cells": [
  {
   "cell_type": "markdown",
   "metadata": {},
   "source": [
    "# Проверка модели линейной регрессии"
   ]
  },
  {
   "cell_type": "code",
   "execution_count": 14,
   "metadata": {},
   "outputs": [],
   "source": [
    "import numpy as np\n",
    "import pandas as pd\n",
    "from sklearn.metrics import mean_absolute_error #поиск средней ошибки в абсолютном и квадратичном смысле\n",
    "from sklearn import linear_model\n",
    "\n",
    "data = pd.read_csv(\"classes.csv\")"
   ]
  },
  {
   "cell_type": "markdown",
   "metadata": {},
   "source": [
    "Повторение операций выделения тестовых и тренировочных данных, как и при \"ручном\" способе"
   ]
  },
  {
   "cell_type": "code",
   "execution_count": 15,
   "metadata": {},
   "outputs": [],
   "source": [
    "data['start_at']= pd.to_datetime(data['start_at']) \n",
    "#data.sort_values(by = \"start_at\", inplace = True)\n",
    "data['year'] = data['start_at'].dt.year\n",
    "data['month'] = data['start_at'].dt.month\n",
    "data['week'] = data['start_at'].dt.week\n",
    "Y_true = data.groupby(['year', 'week'])['teacher_id'].nunique()[:-1]\n",
    "Y_true.index = range(Y_true.size)\n",
    "\n",
    "Y = np.matrix(Y_true).T\n",
    "Y_train = Y[:-1]\n",
    "X_train = np.arange(0,Y_true.size-1).reshape(Y_true.size-1,1)"
   ]
  },
  {
   "cell_type": "code",
   "execution_count": 39,
   "metadata": {},
   "outputs": [],
   "source": [
    "regr = linear_model.LinearRegression()\n",
    "regr.fit(X_train, Y_train)\n",
    "X_test = np.append(X_train,np.array(108)).reshape(Y_true.size,1)\n",
    "y_pred = regr.predict(X_test)"
   ]
  },
  {
   "cell_type": "code",
   "execution_count": 40,
   "metadata": {},
   "outputs": [
    {
     "name": "stdout",
     "output_type": "stream",
     "text": [
      "Коэффициент регресии: \n",
      " [[55.12644927]]\n",
      "Средняя абсолютная ошибка: 171.90558268946563\n"
     ]
    }
   ],
   "source": [
    "print('Коэффициент регресии: \\n', regr.coef_)\n",
    "print('Средняя абсолютная ошибка:', mean_absolute_error(Y_true, y_pred))"
   ]
  },
  {
   "cell_type": "code",
   "execution_count": null,
   "metadata": {},
   "outputs": [],
   "source": []
  },
  {
   "cell_type": "markdown",
   "metadata": {},
   "source": [
    "Полученная модель полностью совпадает с прошлыми"
   ]
  }
 ],
 "metadata": {
  "kernelspec": {
   "display_name": "Python 3",
   "language": "python",
   "name": "python3"
  },
  "language_info": {
   "codemirror_mode": {
    "name": "ipython",
    "version": 3
   },
   "file_extension": ".py",
   "mimetype": "text/x-python",
   "name": "python",
   "nbconvert_exporter": "python",
   "pygments_lexer": "ipython3",
   "version": "3.7.3"
  }
 },
 "nbformat": 4,
 "nbformat_minor": 2
}
