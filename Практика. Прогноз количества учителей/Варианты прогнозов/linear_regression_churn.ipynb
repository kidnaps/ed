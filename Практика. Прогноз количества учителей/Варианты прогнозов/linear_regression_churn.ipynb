{
 "cells": [
  {
   "cell_type": "markdown",
   "metadata": {},
   "source": [
    "# Прогноз с использованием статистик churn rate и income rate"
   ]
  },
  {
   "cell_type": "code",
   "execution_count": 3,
   "metadata": {},
   "outputs": [],
   "source": [
    "import numpy as np\n",
    "import pandas as pd\n",
    "import matplotlib.pyplot as plt\n",
    "from numpy.linalg import inv #вычисление обратной матрицы\n",
    "from sklearn.metrics import mean_absolute_error #поиск средней ошибки в абсолютном и квадратичном смысле\n",
    "\n",
    "data = pd.read_csv(\"classes.csv\")"
   ]
  },
  {
   "cell_type": "code",
   "execution_count": 4,
   "metadata": {},
   "outputs": [],
   "source": [
    "data['start_at']= pd.to_datetime(data['start_at']) \n",
    "#data.sort_values(by = \"start_at\", inplace = True)\n",
    "data['year'] = data['start_at'].dt.year\n",
    "data['month'] = data['start_at'].dt.month\n",
    "full_data = data.groupby(['year', 'month'])['teacher_id'].nunique()"
   ]
  },
  {
   "cell_type": "markdown",
   "metadata": {},
   "source": [
    "Анализ данных за прошлые месяца на предмет оттока и приток учителей"
   ]
  },
  {
   "cell_type": "code",
   "execution_count": 5,
   "metadata": {},
   "outputs": [],
   "source": [
    "teachers_left = list()\n",
    "teachers_stayed = list()\n",
    "teachers_new = list()\n",
    "\n",
    "for i in range(2017,2020):\n",
    "        for j in range(1,13):\n",
    "            temp1 = data[(data['year'] == i) & (data['month']==j)].drop_duplicates(subset='teacher_id')\n",
    "            if j == 12:\n",
    "                j = 0\n",
    "                i = i+1\n",
    "            temp2 = data[(data['year'] == i) & (data['month']==j+1)].drop_duplicates(subset='teacher_id')\n",
    "            stayed = pd.merge(temp1, temp2, on='teacher_id').count().teacher_id\n",
    "            left = temp1.count().teacher_id - stayed\n",
    "            came = temp2.count().teacher_id - stayed\n",
    "            if temp1.size > 0:\n",
    "                teachers_left.append(left)\n",
    "                teachers_stayed.append(stayed)\n",
    "                teachers_new.append(came)"
   ]
  },
  {
   "cell_type": "code",
   "execution_count": 6,
   "metadata": {},
   "outputs": [],
   "source": [
    "full_data = pd.DataFrame(full_data)\n",
    "full_data.columns = [\"count_teachers\"]"
   ]
  },
  {
   "cell_type": "code",
   "execution_count": 7,
   "metadata": {},
   "outputs": [
    {
     "data": {
      "text/html": [
       "<div>\n",
       "<style scoped>\n",
       "    .dataframe tbody tr th:only-of-type {\n",
       "        vertical-align: middle;\n",
       "    }\n",
       "\n",
       "    .dataframe tbody tr th {\n",
       "        vertical-align: top;\n",
       "    }\n",
       "\n",
       "    .dataframe thead th {\n",
       "        text-align: right;\n",
       "    }\n",
       "</style>\n",
       "<table border=\"1\" class=\"dataframe\">\n",
       "  <thead>\n",
       "    <tr style=\"text-align: right;\">\n",
       "      <th></th>\n",
       "      <th></th>\n",
       "      <th>count_teachers</th>\n",
       "      <th>teachers_stayed</th>\n",
       "      <th>teachers_left</th>\n",
       "      <th>teachers_new</th>\n",
       "      <th>teachers_churn_rate</th>\n",
       "      <th>teachers_income_rate</th>\n",
       "    </tr>\n",
       "    <tr>\n",
       "      <th>year</th>\n",
       "      <th>month</th>\n",
       "      <th></th>\n",
       "      <th></th>\n",
       "      <th></th>\n",
       "      <th></th>\n",
       "      <th></th>\n",
       "      <th></th>\n",
       "    </tr>\n",
       "  </thead>\n",
       "  <tbody>\n",
       "    <tr>\n",
       "      <th rowspan=\"4\" valign=\"top\">2017</th>\n",
       "      <th>9</th>\n",
       "      <td>1207</td>\n",
       "      <td>0</td>\n",
       "      <td>0</td>\n",
       "      <td>0</td>\n",
       "      <td>0.000000</td>\n",
       "      <td>0.000000</td>\n",
       "    </tr>\n",
       "    <tr>\n",
       "      <th>10</th>\n",
       "      <td>1273</td>\n",
       "      <td>1140</td>\n",
       "      <td>67</td>\n",
       "      <td>133</td>\n",
       "      <td>0.055510</td>\n",
       "      <td>0.110191</td>\n",
       "    </tr>\n",
       "    <tr>\n",
       "      <th>11</th>\n",
       "      <td>1463</td>\n",
       "      <td>1202</td>\n",
       "      <td>71</td>\n",
       "      <td>261</td>\n",
       "      <td>0.055774</td>\n",
       "      <td>0.205027</td>\n",
       "    </tr>\n",
       "    <tr>\n",
       "      <th>12</th>\n",
       "      <td>1693</td>\n",
       "      <td>1381</td>\n",
       "      <td>82</td>\n",
       "      <td>312</td>\n",
       "      <td>0.056049</td>\n",
       "      <td>0.213260</td>\n",
       "    </tr>\n",
       "    <tr>\n",
       "      <th rowspan=\"12\" valign=\"top\">2018</th>\n",
       "      <th>1</th>\n",
       "      <td>1806</td>\n",
       "      <td>1570</td>\n",
       "      <td>123</td>\n",
       "      <td>236</td>\n",
       "      <td>0.072652</td>\n",
       "      <td>0.139398</td>\n",
       "    </tr>\n",
       "    <tr>\n",
       "      <th>2</th>\n",
       "      <td>2088</td>\n",
       "      <td>1708</td>\n",
       "      <td>98</td>\n",
       "      <td>380</td>\n",
       "      <td>0.054264</td>\n",
       "      <td>0.210410</td>\n",
       "    </tr>\n",
       "    <tr>\n",
       "      <th>3</th>\n",
       "      <td>2488</td>\n",
       "      <td>1970</td>\n",
       "      <td>118</td>\n",
       "      <td>518</td>\n",
       "      <td>0.056513</td>\n",
       "      <td>0.248084</td>\n",
       "    </tr>\n",
       "    <tr>\n",
       "      <th>4</th>\n",
       "      <td>2854</td>\n",
       "      <td>2333</td>\n",
       "      <td>155</td>\n",
       "      <td>521</td>\n",
       "      <td>0.062299</td>\n",
       "      <td>0.209405</td>\n",
       "    </tr>\n",
       "    <tr>\n",
       "      <th>5</th>\n",
       "      <td>3256</td>\n",
       "      <td>2692</td>\n",
       "      <td>162</td>\n",
       "      <td>564</td>\n",
       "      <td>0.056762</td>\n",
       "      <td>0.197617</td>\n",
       "    </tr>\n",
       "    <tr>\n",
       "      <th>6</th>\n",
       "      <td>3517</td>\n",
       "      <td>3014</td>\n",
       "      <td>242</td>\n",
       "      <td>503</td>\n",
       "      <td>0.074324</td>\n",
       "      <td>0.154484</td>\n",
       "    </tr>\n",
       "    <tr>\n",
       "      <th>7</th>\n",
       "      <td>3739</td>\n",
       "      <td>3188</td>\n",
       "      <td>329</td>\n",
       "      <td>551</td>\n",
       "      <td>0.093546</td>\n",
       "      <td>0.156668</td>\n",
       "    </tr>\n",
       "    <tr>\n",
       "      <th>8</th>\n",
       "      <td>4009</td>\n",
       "      <td>3387</td>\n",
       "      <td>352</td>\n",
       "      <td>622</td>\n",
       "      <td>0.094143</td>\n",
       "      <td>0.166355</td>\n",
       "    </tr>\n",
       "    <tr>\n",
       "      <th>9</th>\n",
       "      <td>4299</td>\n",
       "      <td>3663</td>\n",
       "      <td>346</td>\n",
       "      <td>636</td>\n",
       "      <td>0.086306</td>\n",
       "      <td>0.158643</td>\n",
       "    </tr>\n",
       "    <tr>\n",
       "      <th>10</th>\n",
       "      <td>4631</td>\n",
       "      <td>3995</td>\n",
       "      <td>304</td>\n",
       "      <td>636</td>\n",
       "      <td>0.070714</td>\n",
       "      <td>0.147941</td>\n",
       "    </tr>\n",
       "    <tr>\n",
       "      <th>11</th>\n",
       "      <td>4774</td>\n",
       "      <td>4341</td>\n",
       "      <td>290</td>\n",
       "      <td>433</td>\n",
       "      <td>0.062621</td>\n",
       "      <td>0.093500</td>\n",
       "    </tr>\n",
       "    <tr>\n",
       "      <th>12</th>\n",
       "      <td>4883</td>\n",
       "      <td>4501</td>\n",
       "      <td>273</td>\n",
       "      <td>382</td>\n",
       "      <td>0.057185</td>\n",
       "      <td>0.080017</td>\n",
       "    </tr>\n",
       "    <tr>\n",
       "      <th rowspan=\"9\" valign=\"top\">2019</th>\n",
       "      <th>1</th>\n",
       "      <td>5153</td>\n",
       "      <td>4577</td>\n",
       "      <td>306</td>\n",
       "      <td>576</td>\n",
       "      <td>0.062666</td>\n",
       "      <td>0.117960</td>\n",
       "    </tr>\n",
       "    <tr>\n",
       "      <th>2</th>\n",
       "      <td>5681</td>\n",
       "      <td>4904</td>\n",
       "      <td>249</td>\n",
       "      <td>777</td>\n",
       "      <td>0.048321</td>\n",
       "      <td>0.150786</td>\n",
       "    </tr>\n",
       "    <tr>\n",
       "      <th>3</th>\n",
       "      <td>6197</td>\n",
       "      <td>5388</td>\n",
       "      <td>293</td>\n",
       "      <td>809</td>\n",
       "      <td>0.051575</td>\n",
       "      <td>0.142405</td>\n",
       "    </tr>\n",
       "    <tr>\n",
       "      <th>4</th>\n",
       "      <td>6644</td>\n",
       "      <td>5873</td>\n",
       "      <td>324</td>\n",
       "      <td>771</td>\n",
       "      <td>0.052283</td>\n",
       "      <td>0.124415</td>\n",
       "    </tr>\n",
       "    <tr>\n",
       "      <th>5</th>\n",
       "      <td>7024</td>\n",
       "      <td>6299</td>\n",
       "      <td>345</td>\n",
       "      <td>725</td>\n",
       "      <td>0.051927</td>\n",
       "      <td>0.109121</td>\n",
       "    </tr>\n",
       "    <tr>\n",
       "      <th>6</th>\n",
       "      <td>7154</td>\n",
       "      <td>6553</td>\n",
       "      <td>471</td>\n",
       "      <td>601</td>\n",
       "      <td>0.067056</td>\n",
       "      <td>0.085564</td>\n",
       "    </tr>\n",
       "    <tr>\n",
       "      <th>7</th>\n",
       "      <td>7303</td>\n",
       "      <td>6544</td>\n",
       "      <td>610</td>\n",
       "      <td>759</td>\n",
       "      <td>0.085267</td>\n",
       "      <td>0.106094</td>\n",
       "    </tr>\n",
       "    <tr>\n",
       "      <th>8</th>\n",
       "      <td>7776</td>\n",
       "      <td>6756</td>\n",
       "      <td>547</td>\n",
       "      <td>1020</td>\n",
       "      <td>0.074901</td>\n",
       "      <td>0.139669</td>\n",
       "    </tr>\n",
       "    <tr>\n",
       "      <th>9</th>\n",
       "      <td>8252</td>\n",
       "      <td>7166</td>\n",
       "      <td>610</td>\n",
       "      <td>1086</td>\n",
       "      <td>0.078447</td>\n",
       "      <td>0.139660</td>\n",
       "    </tr>\n",
       "  </tbody>\n",
       "</table>\n",
       "</div>"
      ],
      "text/plain": [
       "            count_teachers  teachers_stayed  teachers_left  teachers_new  \\\n",
       "year month                                                                 \n",
       "2017 9                1207                0              0             0   \n",
       "     10               1273             1140             67           133   \n",
       "     11               1463             1202             71           261   \n",
       "     12               1693             1381             82           312   \n",
       "2018 1                1806             1570            123           236   \n",
       "     2                2088             1708             98           380   \n",
       "     3                2488             1970            118           518   \n",
       "     4                2854             2333            155           521   \n",
       "     5                3256             2692            162           564   \n",
       "     6                3517             3014            242           503   \n",
       "     7                3739             3188            329           551   \n",
       "     8                4009             3387            352           622   \n",
       "     9                4299             3663            346           636   \n",
       "     10               4631             3995            304           636   \n",
       "     11               4774             4341            290           433   \n",
       "     12               4883             4501            273           382   \n",
       "2019 1                5153             4577            306           576   \n",
       "     2                5681             4904            249           777   \n",
       "     3                6197             5388            293           809   \n",
       "     4                6644             5873            324           771   \n",
       "     5                7024             6299            345           725   \n",
       "     6                7154             6553            471           601   \n",
       "     7                7303             6544            610           759   \n",
       "     8                7776             6756            547          1020   \n",
       "     9                8252             7166            610          1086   \n",
       "\n",
       "            teachers_churn_rate  teachers_income_rate  \n",
       "year month                                             \n",
       "2017 9                 0.000000              0.000000  \n",
       "     10                0.055510              0.110191  \n",
       "     11                0.055774              0.205027  \n",
       "     12                0.056049              0.213260  \n",
       "2018 1                 0.072652              0.139398  \n",
       "     2                 0.054264              0.210410  \n",
       "     3                 0.056513              0.248084  \n",
       "     4                 0.062299              0.209405  \n",
       "     5                 0.056762              0.197617  \n",
       "     6                 0.074324              0.154484  \n",
       "     7                 0.093546              0.156668  \n",
       "     8                 0.094143              0.166355  \n",
       "     9                 0.086306              0.158643  \n",
       "     10                0.070714              0.147941  \n",
       "     11                0.062621              0.093500  \n",
       "     12                0.057185              0.080017  \n",
       "2019 1                 0.062666              0.117960  \n",
       "     2                 0.048321              0.150786  \n",
       "     3                 0.051575              0.142405  \n",
       "     4                 0.052283              0.124415  \n",
       "     5                 0.051927              0.109121  \n",
       "     6                 0.067056              0.085564  \n",
       "     7                 0.085267              0.106094  \n",
       "     8                 0.074901              0.139669  \n",
       "     9                 0.078447              0.139660  "
      ]
     },
     "execution_count": 7,
     "metadata": {},
     "output_type": "execute_result"
    }
   ],
   "source": [
    "full_data[\"teachers_stayed\"] = full_data[\"teachers_left\"] = full_data[\"teachers_new\"] = 0\n",
    "full_data[\"teachers_churn_rate\"] = full_data[\"teachers_income_rate\"] = 0\n",
    "for i in range (1, 25):\n",
    "    full_data.iloc[i, full_data.columns.get_loc('teachers_stayed')] = teachers_stayed[i-1]\n",
    "    full_data.iloc[i, full_data.columns.get_loc('teachers_left')] = teachers_left[i-1]\n",
    "    full_data.iloc[i, full_data.columns.get_loc('teachers_new')] = teachers_new[i-1]\n",
    "    full_data.iloc[i, full_data.columns.get_loc('teachers_churn_rate')] = teachers_left[i-1]/full_data.iloc[i-1, full_data.columns.get_loc('count_teachers')]\n",
    "    full_data.iloc[i, full_data.columns.get_loc('teachers_income_rate')] = teachers_new[i-1]/full_data.iloc[i-1, full_data.columns.get_loc('count_teachers')]\n",
    "    \n",
    "full_data"
   ]
  },
  {
   "cell_type": "markdown",
   "metadata": {},
   "source": [
    "Оценка числа преподавателей без влияния коэффициентов оттока и притока"
   ]
  },
  {
   "cell_type": "code",
   "execution_count": 8,
   "metadata": {},
   "outputs": [],
   "source": [
    "Y_true = full_data['count_teachers']\n",
    "Y_true.index = range(25)\n",
    "\n",
    "Y = np.matrix(Y_true).T\n",
    "Y_train = Y[:-1]\n",
    "A = np.matrix(np.concatenate((np.ones(shape = (Y_true.size-1, 1), dtype = int), np.arange(0,Y_true.size-1).reshape(Y_true.size-1,1)), axis=1))\n",
    "#один месяц отрезаем для проверки"
   ]
  },
  {
   "cell_type": "code",
   "execution_count": 9,
   "metadata": {},
   "outputs": [
    {
     "name": "stdout",
     "output_type": "stream",
     "text": [
      "Оценки параметров: a = 810.0966666666673, k = 295.18000000000006 \n"
     ]
    }
   ],
   "source": [
    "tetta = np.dot(np.dot(inv(np.dot(A.T,A)),A.T), Y_train)\n",
    "a0 = float(tetta[0,0])\n",
    "k = float(tetta[1,0])\n",
    "print(\"Оценки параметров: a = {0}, k = {1} \".format(a0, k))"
   ]
  },
  {
   "cell_type": "code",
   "execution_count": 10,
   "metadata": {},
   "outputs": [
    {
     "data": {
      "image/png": "[encoded data removed]",
      "text/plain": [
       "<Figure size 432x288 with 1 Axes>"
      ]
     },
     "metadata": {
      "needs_background": "light"
     },
     "output_type": "display_data"
    }
   ],
   "source": [
    "x = np.linspace(0, Y_train.size,Y_train.size + 1)\n",
    "Y_pred = a0 + x * k\n",
    "\n",
    "plt.plot(x, Y_pred, '-r')\n",
    "plt.scatter(Y_true.index, Y_true)\n",
    "plt.show()"
   ]
  },
  {
   "cell_type": "markdown",
   "metadata": {},
   "source": [
    "Вычислением средних значений оттока и притока в разные месяца"
   ]
  },
  {
   "cell_type": "code",
   "execution_count": 41,
   "metadata": {},
   "outputs": [],
   "source": [
    "churn = full_data.loc[2018:2020].groupby(['month'])['teachers_churn_rate', 'teachers_income_rate'].mean()"
   ]
  },
  {
   "cell_type": "markdown",
   "metadata": {},
   "source": [
    "Прогноз делайется исходя из количества (если неизвестно - оценки количества) преподавателей в прошлом месяце"
   ]
  },
  {
   "cell_type": "code",
   "execution_count": 12,
   "metadata": {},
   "outputs": [
    {
     "name": "stdout",
     "output_type": "stream",
     "text": [
      "Ошибка в тестовом месяце  -145.31962007529364\n"
     ]
    }
   ],
   "source": [
    "print(\"Ошибка в тестовом месяце \", (a0 + (Y_train.size-1) * k + (a0 + (Y_train.size-1) * k)*(churn['teachers_income_rate'][9]-churn['teachers_churn_rate'][9]))-Y_true[Y_train.size])"
   ]
  },
  {
   "cell_type": "code",
   "execution_count": 13,
   "metadata": {},
   "outputs": [
    {
     "name": "stdout",
     "output_type": "stream",
     "text": [
      "Предсказанное количество преподавателей в следующем месяце  8504.080852136158\n"
     ]
    }
   ],
   "source": [
    "print(\"Предсказанное количество преподавателей в следующем месяце \", (a0 + Y_train.size * k + (a0 + Y_train.size * k)*(churn['teachers_income_rate'][10]-churn['teachers_churn_rate'][10])))"
   ]
  },
  {
   "cell_type": "markdown",
   "metadata": {},
   "source": [
    "### Оценка точности модели"
   ]
  },
  {
   "cell_type": "code",
   "execution_count": 42,
   "metadata": {},
   "outputs": [
    {
     "name": "stdout",
     "output_type": "stream",
     "text": [
      "Средняя абсолютная ошибка за последние пять месяцев:  62.58037132182635\n"
     ]
    }
   ],
   "source": [
    "j = 5\n",
    "res = 0\n",
    "for i in range(20,25):\n",
    "    res = res + abs(Y_true[i] - (Y_pred[i-1] + Y_pred[i-1]*(churn['teachers_income_rate'][j]-churn['teachers_churn_rate'][j])))\n",
    "    j = j + 1\n",
    "print(\"Средняя абсолютная ошибка за последние пять месяцев: \", res/5)"
   ]
  },
  {
   "cell_type": "code",
   "execution_count": null,
   "metadata": {},
   "outputs": [],
   "source": []
  }
 ],
 "metadata": {
  "kernelspec": {
   "display_name": "Python 3",
   "language": "python",
   "name": "python3"
  },
  "language_info": {
   "codemirror_mode": {
    "name": "ipython",
    "version": 3
   },
   "file_extension": ".py",
   "mimetype": "text/x-python",
   "name": "python",
   "nbconvert_exporter": "python",
   "pygments_lexer": "ipython3",
   "version": "3.7.3"
  }
 },
 "nbformat": 4,
 "nbformat_minor": 2
}
