{
 "cells": [
  {
   "cell_type": "markdown",
   "metadata": {},
   "source": [
    "# Обычная модель линейной регрессии"
   ]
  },
  {
   "cell_type": "code",
   "execution_count": 2,
   "metadata": {},
   "outputs": [],
   "source": [
    "import numpy as np\n",
    "import pandas as pd\n",
    "import matplotlib.pyplot as plt\n",
    "from numpy.linalg import inv #вычисление обратной матрицы\n",
    "from sklearn.metrics import mean_absolute_error #поиск средней ошибки в абсолютном и квадратичном смысле\n",
    "\n",
    "data = pd.read_csv(\"classes.csv\")"
   ]
  },
  {
   "cell_type": "markdown",
   "metadata": {},
   "source": [
    "Выделение нужных характеристик и формирование таблицы количества уникальных преподавателей в каждом месяце"
   ]
  },
  {
   "cell_type": "code",
   "execution_count": 3,
   "metadata": {},
   "outputs": [],
   "source": [
    "data['start_at']= pd.to_datetime(data['start_at']) \n",
    "#data.sort_values(by = \"start_at\", inplace = True)\n",
    "data['year'] = data['start_at'].dt.year\n",
    "data['month'] = data['start_at'].dt.month\n",
    "Y_true = data.groupby(['year', 'month'])['teacher_id'].nunique()\n",
    "Y_true.index = range(25)"
   ]
  },
  {
   "cell_type": "markdown",
   "metadata": {},
   "source": [
    "Уравнение линейной регрессии для $n$ наблюдений:\n",
    "$$Y_i = a_0+k*t_i$$\n",
    "$t$ -  независимой переменная (месяц) \n",
    "\n",
    "$Y$ – зависимая переменная, которую будем предсказывать (количество преподавателей)\n",
    "\n",
    "$a$ – свободный член - значение Y в начальный момент времени t = 0\n",
    "\n",
    "$k$ – градиент оценённой линии; представляет собой величину, на которую Y увеличивается в среднем, если увеличивать $t$ на одну единиц\n",
    "\n",
    "В матричной форме для нескольких наблюдений:\n",
    "\n",
    "$$Y = A*\\theta,$$\n",
    "где $Y$ - вектор наблюдений; $A$ - матрица (n x 2), первый столбец - единичный, второй - значения параметра t; \n",
    "$\\theta = (a_0, k)$"
   ]
  },
  {
   "cell_type": "code",
   "execution_count": 4,
   "metadata": {},
   "outputs": [],
   "source": [
    "Y = np.matrix(Y_true).T\n",
    "Y_train = Y[:-1]\n",
    "A = np.matrix(np.concatenate((np.ones(shape = (Y_true.size-1, 1), dtype = int), np.arange(0,Y_true.size-1).reshape(Y_true.size-1,1)), axis=1))\n",
    "#один месяц отрезаем для проверки"
   ]
  },
  {
   "cell_type": "markdown",
   "metadata": {},
   "source": [
    "Оценим вектор параметров по методу наименьших квадратов:\n",
    "\n",
    "$$\\hat{\\theta}: (Y - A*\\theta)^2 \\rightarrow min$$\n",
    "\n",
    "$$\\hat{\\theta} = argmin(Y - A*\\theta)^2 = (A^{T}A)^{-1}A^{T}Y$$"
   ]
  },
  {
   "cell_type": "code",
   "execution_count": 5,
   "metadata": {},
   "outputs": [
    {
     "name": "stdout",
     "output_type": "stream",
     "text": [
      "Оценки параметров: a = 810.0966666666673, k = 295.18000000000006 \n"
     ]
    }
   ],
   "source": [
    "tetta = np.dot(np.dot(inv(np.dot(A.T,A)),A.T), Y_train)\n",
    "a0 = float(tetta[0,0])\n",
    "k = float(tetta[1,0])\n",
    "print(\"Оценки параметров: a = {0}, k = {1} \".format(a0, k))"
   ]
  },
  {
   "cell_type": "markdown",
   "metadata": {},
   "source": [
    "Теперь можно построить график полученной функции на плоскости с реальными значениями"
   ]
  },
  {
   "cell_type": "code",
   "execution_count": 6,
   "metadata": {
    "scrolled": true
   },
   "outputs": [
    {
     "data": {
      "image/png": "[encoded data removed]",
      "text/plain": [
       "<Figure size 432x288 with 1 Axes>"
      ]
     },
     "metadata": {
      "needs_background": "light"
     },
     "output_type": "display_data"
    }
   ],
   "source": [
    "x = np.linspace(0, Y_train.size,Y_train.size + 1)\n",
    "Y_pred = a0 + x * k\n",
    "\n",
    "plt.plot(x, Y_pred, '-r')\n",
    "plt.scatter(Y_true.index, Y_true)\n",
    "plt.show()"
   ]
  },
  {
   "cell_type": "markdown",
   "metadata": {},
   "source": [
    "Посмотрим на ошибку между реальным количеством учителей на 25 месяце (которого не было в исходной моделе) и предсказанным моделью и оценим ошибку в общем"
   ]
  },
  {
   "cell_type": "code",
   "execution_count": 15,
   "metadata": {},
   "outputs": [
    {
     "name": "stdout",
     "output_type": "stream",
     "text": [
      "Ошибка на 25-ом месяце:  -357.5833333333312\n"
     ]
    }
   ],
   "source": [
    "print(\"Ошибка на 25-ом месяце: \", a0 + Y_train.size * k - Y_true[Y_train.size])"
   ]
  },
  {
   "cell_type": "code",
   "execution_count": 7,
   "metadata": {
    "scrolled": true
   },
   "outputs": [
    {
     "name": "stdout",
     "output_type": "stream",
     "text": [
      "Предсказанное количество требуемых преподавателей в следующем месяце:\n",
      " 8189.596666666669\n"
     ]
    }
   ],
   "source": [
    "print(\"Предсказанное количество требуемых преподавателей в следующем месяце:\\n\", a0 + 25 * k)"
   ]
  },
  {
   "cell_type": "markdown",
   "metadata": {},
   "source": [
    "### Оценка точности модели"
   ]
  },
  {
   "cell_type": "code",
   "execution_count": 17,
   "metadata": {},
   "outputs": [
    {
     "name": "stdout",
     "output_type": "stream",
     "text": [
      "Средняя абсолютная ошибка за последние пять месяцев:  198.16599999999872\n"
     ]
    }
   ],
   "source": [
    "print(\"Средняя абсолютная ошибка за последние пять месяцев: \", mean_absolute_error(Y_true[20:25], Y_pred[20:25]))"
   ]
  },
  {
   "cell_type": "code",
   "execution_count": null,
   "metadata": {},
   "outputs": [],
   "source": []
  }
 ],
 "metadata": {
  "kernelspec": {
   "display_name": "Python 3",
   "language": "python",
   "name": "python3"
  },
  "language_info": {
   "codemirror_mode": {
    "name": "ipython",
    "version": 3
   },
   "file_extension": ".py",
   "mimetype": "text/x-python",
   "name": "python",
   "nbconvert_exporter": "python",
   "pygments_lexer": "ipython3",
   "version": "3.7.3"
  }
 },
 "nbformat": 4,
 "nbformat_minor": 2
}
