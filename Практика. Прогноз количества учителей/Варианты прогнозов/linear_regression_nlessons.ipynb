{
 "cells": [
  {
   "cell_type": "markdown",
   "metadata": {},
   "source": [
    "# Расчет количества преподавателей исходя из их средней нагрузки и количества уроков в месяц"
   ]
  },
  {
   "cell_type": "code",
   "execution_count": 6,
   "metadata": {},
   "outputs": [],
   "source": [
    "import numpy as np\n",
    "import pandas as pd\n",
    "import matplotlib.pyplot as plt\n",
    "from numpy.linalg import inv #вычисление обратной матрицы\n",
    "from sklearn.metrics import mean_absolute_error #поиск средней ошибки в абсолютном и квадратичном смысле\n",
    "\n",
    "data = pd.read_csv(\"classes.csv\")"
   ]
  },
  {
   "cell_type": "code",
   "execution_count": 7,
   "metadata": {},
   "outputs": [],
   "source": [
    "data['start_at']= pd.to_datetime(data['start_at']) \n",
    "#data.sort_values(by = \"start_at\", inplace = True)\n",
    "data['year'] = data['start_at'].dt.year\n",
    "data['month'] = data['start_at'].dt.month\n",
    "lessons_count = data.groupby(['year', 'month'])['start_at'].count()\n",
    "teachers_count = data.groupby(['year', 'month'])['teacher_id'].nunique()"
   ]
  },
  {
   "cell_type": "markdown",
   "metadata": {},
   "source": [
    "Средняя нагрузка преподавателя в месяц"
   ]
  },
  {
   "cell_type": "code",
   "execution_count": 8,
   "metadata": {},
   "outputs": [],
   "source": [
    "relation = lessons_count/teachers_count\n",
    "relation = relation.groupby(['month']).mean()"
   ]
  },
  {
   "cell_type": "code",
   "execution_count": 10,
   "metadata": {},
   "outputs": [],
   "source": [
    "Y_true = lessons_count\n",
    "Y_true.index = range(25)\n",
    "\n",
    "Y = np.matrix(Y_true).T\n",
    "Y_train = Y[:-1]\n",
    "A = np.matrix(np.concatenate((np.ones(shape = (Y_true.size-1, 1), dtype = int), np.arange(0,Y_true.size-1).reshape(Y_true.size-1,1)), axis=1))\n",
    "#один месяц отрезаем для проверки"
   ]
  },
  {
   "cell_type": "code",
   "execution_count": 11,
   "metadata": {},
   "outputs": [
    {
     "name": "stdout",
     "output_type": "stream",
     "text": [
      "Оценки параметров: a = 7487.836666666676, k = 4677.224347826088 \n"
     ]
    }
   ],
   "source": [
    "tetta = np.dot(np.dot(inv(np.dot(A.T,A)),A.T), Y_train)\n",
    "a0 = float(tetta[0,0])\n",
    "k = float(tetta[1,0])\n",
    "print(\"Оценки параметров: a = {0}, k = {1} \".format(a0, k))"
   ]
  },
  {
   "cell_type": "code",
   "execution_count": 12,
   "metadata": {},
   "outputs": [
    {
     "data": {
      "image/png": "[encoded data removed]",
      "text/plain": [
       "<Figure size 432x288 with 1 Axes>"
      ]
     },
     "metadata": {
      "needs_background": "light"
     },
     "output_type": "display_data"
    }
   ],
   "source": [
    "x = np.linspace(0, Y_train.size,Y_train.size + 1)\n",
    "Y_pred = a0 + x * k\n",
    "\n",
    "plt.plot(x, Y_pred, '-r')\n",
    "plt.scatter(Y_true.index, Y_true)\n",
    "plt.show()"
   ]
  },
  {
   "cell_type": "code",
   "execution_count": 13,
   "metadata": {},
   "outputs": [
    {
     "name": "stdout",
     "output_type": "stream",
     "text": [
      "Ошибка количества преподавателей на тестовом месяце:  648.3452881814628\n"
     ]
    }
   ],
   "source": [
    "print(\"Ошибка количества преподавателей на тестовом месяце: \", (a0 + (Y_train.size) * k)/relation[9] - teachers_count[24])"
   ]
  },
  {
   "cell_type": "code",
   "execution_count": 14,
   "metadata": {},
   "outputs": [
    {
     "name": "stdout",
     "output_type": "stream",
     "text": [
      "Предсказанное количество преподавателей в следующем (10ом) месяце:\n",
      " 8723.448034014242\n"
     ]
    }
   ],
   "source": [
    "print(\"Предсказанное количество преподавателей в следующем (10ом) месяце:\\n\", (a0 + (Y_train.size + 1)*k)/relation[10])"
   ]
  },
  {
   "cell_type": "markdown",
   "metadata": {},
   "source": [
    "### Оценка точности модели"
   ]
  },
  {
   "cell_type": "code",
   "execution_count": 24,
   "metadata": {},
   "outputs": [
    {
     "name": "stdout",
     "output_type": "stream",
     "text": [
      "Средняя абсолютная ошибка за последние пять месяцев:  360.2497606719653\n"
     ]
    }
   ],
   "source": [
    "j = 5\n",
    "res = 0\n",
    "for i in range(20,25):\n",
    "    res = res + abs(teachers_count[i] - Y_pred[i]/relation[j])\n",
    "    j = j + 1\n",
    "print(\"Средняя абсолютная ошибка за последние пять месяцев: \", res/5)"
   ]
  },
  {
   "cell_type": "code",
   "execution_count": null,
   "metadata": {},
   "outputs": [],
   "source": []
  }
 ],
 "metadata": {
  "kernelspec": {
   "display_name": "Python 3",
   "language": "python",
   "name": "python3"
  },
  "language_info": {
   "codemirror_mode": {
    "name": "ipython",
    "version": 3
   },
   "file_extension": ".py",
   "mimetype": "text/x-python",
   "name": "python",
   "nbconvert_exporter": "python",
   "pygments_lexer": "ipython3",
   "version": "3.7.3"
  }
 },
 "nbformat": 4,
 "nbformat_minor": 2
}
